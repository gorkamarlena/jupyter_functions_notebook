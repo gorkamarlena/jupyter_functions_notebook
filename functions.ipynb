{
 "cells": [
  {
   "cell_type": "markdown",
   "id": "dd0f4479-85cd-43fa-b61f-a7b642aca4ae",
   "metadata": {},
   "source": [
    "# My functions notes"
   ]
  },
  {
   "cell_type": "markdown",
   "id": "e13c5dbe-36a0-4837-ad6b-eac31d10dc62",
   "metadata": {},
   "source": [
    "A function is a block of code which only runs when it is called.\n",
    "\n",
    "You can pass data, known as parameters, into a function. A function can return data as a result.\n"
   ]
  },
  {
   "cell_type": "markdown",
   "id": "6a18740b-4121-4cf4-ab99-90634de3e3fa",
   "metadata": {},
   "source": [
    "Creating a Function\n",
    "In Python a function is defined using the def keyword:"
   ]
  },
  {
   "cell_type": "code",
   "execution_count": 5,
   "id": "ef42826c-55f5-4d1c-9160-c68ca799887a",
   "metadata": {},
   "outputs": [],
   "source": [
    "# Example\n",
    "\n",
    "def my_function():\n",
    "  print(\"Hello from a function\")"
   ]
  },
  {
   "cell_type": "markdown",
   "id": "81a02665-8828-4b7a-ae0d-663c5ff6efc5",
   "metadata": {},
   "source": [
    "# Calling a Function\n",
    "To call a function, use the function name followed by parenthesis:"
   ]
  },
  {
   "cell_type": "code",
   "execution_count": 8,
   "id": "609c9e2b-5a7a-46ed-8cf5-0bd2999b2c7f",
   "metadata": {},
   "outputs": [
    {
     "name": "stdout",
     "output_type": "stream",
     "text": [
      "Hello from a function\n"
     ]
    }
   ],
   "source": [
    "# Example\n",
    "\n",
    "def my_function():\n",
    "  print(\"Hello from a function\")\n",
    "\n",
    "my_function()"
   ]
  },
  {
   "cell_type": "code",
   "execution_count": null,
   "id": "74a205e5-98fc-46b7-895e-0cd76a40df67",
   "metadata": {},
   "outputs": [],
   "source": []
  }
 ],
 "metadata": {
  "kernelspec": {
   "display_name": "Python 3 (ipykernel)",
   "language": "python",
   "name": "python3"
  },
  "language_info": {
   "codemirror_mode": {
    "name": "ipython",
    "version": 3
   },
   "file_extension": ".py",
   "mimetype": "text/x-python",
   "name": "python",
   "nbconvert_exporter": "python",
   "pygments_lexer": "ipython3",
   "version": "3.10.9"
  }
 },
 "nbformat": 4,
 "nbformat_minor": 5
}
